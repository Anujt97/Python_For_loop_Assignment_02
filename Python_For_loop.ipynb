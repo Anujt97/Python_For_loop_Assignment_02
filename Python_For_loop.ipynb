{
 "cells": [
  {
   "cell_type": "markdown",
   "id": "8e572eb2",
   "metadata": {},
   "source": [
    "Question 1 :- Write a Python program to print the numbers from 1 to 10 using a `for` loop."
   ]
  },
  {
   "cell_type": "code",
   "execution_count": 1,
   "id": "a0ab6389",
   "metadata": {},
   "outputs": [
    {
     "name": "stdout",
     "output_type": "stream",
     "text": [
      "1\n",
      "2\n",
      "3\n",
      "4\n",
      "5\n",
      "6\n",
      "7\n",
      "8\n",
      "9\n",
      "10\n"
     ]
    }
   ],
   "source": [
    "for number in range(1, 11):\n",
    "    print(number)"
   ]
  },
  {
   "cell_type": "markdown",
   "id": "d6163e62",
   "metadata": {},
   "source": [
    "Question 2 :- Create a program that calculates the sum of all numbers in a list using a `for` loop."
   ]
  },
  {
   "cell_type": "code",
   "execution_count": 2,
   "id": "d9534112",
   "metadata": {},
   "outputs": [
    {
     "name": "stdout",
     "output_type": "stream",
     "text": [
      "The sum of all numbers in the list is: 30\n"
     ]
    }
   ],
   "source": [
    "# Defining here a list of numbers\n",
    "numbers = [2, 4, 6, 8, 10]\n",
    "\n",
    "# Initializing a variable to store the sum\n",
    "total = 0\n",
    "\n",
    "# Use a for loop to iterate through the list and calculate the sum\n",
    "for number in numbers:\n",
    "    total += number\n",
    "\n",
    "# Printing the sum\n",
    "print(\"The sum of all numbers in the list is:\", total)"
   ]
  },
  {
   "cell_type": "markdown",
   "id": "7ae94487",
   "metadata": {},
   "source": [
    "Question 3 :- Write a program to print the characters of a string in reverse order using a `for` loop."
   ]
  },
  {
   "cell_type": "code",
   "execution_count": 3,
   "id": "cbc55565",
   "metadata": {},
   "outputs": [
    {
     "name": "stdout",
     "output_type": "stream",
     "text": [
      "Reversed string: !dlroW ,olleH\n"
     ]
    }
   ],
   "source": [
    "# Input string\n",
    "input_string = \"Hello, World!\"\n",
    "\n",
    "# Initialize an empty string to store the reversed characters\n",
    "reversed_string = \"\"\n",
    "\n",
    "# Using a for loop to iterate through the characters of the input string in reverse order\n",
    "for char in reversed(input_string): #here i have used reversed() function to iterate through the characters of the input string in reverse order.\n",
    "    reversed_string += char\n",
    "\n",
    "# Print the reversed string\n",
    "print(\"Reversed string:\", reversed_string)"
   ]
  },
  {
   "cell_type": "markdown",
   "id": "54654524",
   "metadata": {},
   "source": [
    "Question 4 :- Develop a program that finds the factorial of a given number using a `for` loop."
   ]
  },
  {
   "cell_type": "code",
   "execution_count": 5,
   "id": "3b9f0853",
   "metadata": {},
   "outputs": [
    {
     "name": "stdout",
     "output_type": "stream",
     "text": [
      "Enter a number: 5\n",
      "The factorial of 5 is 120\n"
     ]
    }
   ],
   "source": [
    "# Input the number for which you want to calculate the factorial\n",
    "number = int(input(\"Enter a number: \"))\n",
    "\n",
    "# Initializing a variable to store the factorial\n",
    "factorial = 1\n",
    "\n",
    "# Using a for loop to calculate the factorial\n",
    "for i in range(1, number + 1):\n",
    "    factorial *= i\n",
    "\n",
    "# Printing the factorial using f string\n",
    "print(f\"The factorial of {number} is {factorial}\")"
   ]
  },
  {
   "cell_type": "markdown",
   "id": "ed4f8f33",
   "metadata": {},
   "source": [
    "Question 5 :- Create a program to print the multiplication table of a given number using a `for` loop."
   ]
  },
  {
   "cell_type": "code",
   "execution_count": 6,
   "id": "9f72ff72",
   "metadata": {},
   "outputs": [
    {
     "name": "stdout",
     "output_type": "stream",
     "text": [
      "Enter a number: 2\n",
      "Multiplication table for 2:\n",
      "2 x 1 = 2\n",
      "2 x 2 = 4\n",
      "2 x 3 = 6\n",
      "2 x 4 = 8\n",
      "2 x 5 = 10\n",
      "2 x 6 = 12\n",
      "2 x 7 = 14\n",
      "2 x 8 = 16\n",
      "2 x 9 = 18\n",
      "2 x 10 = 20\n"
     ]
    }
   ],
   "source": [
    "# Input the number for which you want to print the multiplication table\n",
    "number = int(input(\"Enter a number: \"))\n",
    "\n",
    "# Defining the range for the multiplication table\n",
    "table_range = range(1, 11)\n",
    "\n",
    "# Using a for loop to calculate and print the multiplication table\n",
    "print(f\"Multiplication table for {number}:\")\n",
    "for i in table_range:\n",
    "    result = number * i\n",
    "    print(f\"{number} x {i} = {result}\")"
   ]
  },
  {
   "cell_type": "markdown",
   "id": "5d198057",
   "metadata": {},
   "source": [
    "Question 6 :- Write a program that counts the number of even and odd numbers in a list using a `for` loop."
   ]
  },
  {
   "cell_type": "code",
   "execution_count": 7,
   "id": "357ca881",
   "metadata": {},
   "outputs": [
    {
     "name": "stdout",
     "output_type": "stream",
     "text": [
      "Number of even numbers: 4\n",
      "Number of odd numbers: 3\n"
     ]
    }
   ],
   "source": [
    "# Defining a list of numbers\n",
    "numbers = [2, 4, 5, 7, 8, 10, 11]\n",
    "\n",
    "# Initializing counters for even and odd numbers\n",
    "even_count = 0\n",
    "odd_count = 0\n",
    "\n",
    "# Using a for loop to iterate through the list and count even and odd numbers\n",
    "for number in numbers:\n",
    "    if number % 2 == 0:\n",
    "        even_count += 1\n",
    "    else:\n",
    "        odd_count += 1\n",
    "\n",
    "# Print the counts\n",
    "print(\"Number of even numbers:\", even_count)\n",
    "print(\"Number of odd numbers:\", odd_count)"
   ]
  },
  {
   "cell_type": "markdown",
   "id": "68a2c886",
   "metadata": {},
   "source": [
    "Question 7 :- Develop a program that prints the squares of numbers from 1 to 5 using a `for` loop."
   ]
  },
  {
   "cell_type": "code",
   "execution_count": 8,
   "id": "f35938a4",
   "metadata": {},
   "outputs": [
    {
     "name": "stdout",
     "output_type": "stream",
     "text": [
      "The square of 1 is 1\n",
      "The square of 2 is 4\n",
      "The square of 3 is 9\n",
      "The square of 4 is 16\n",
      "The square of 5 is 25\n"
     ]
    }
   ],
   "source": [
    "# Using a for loop to print the squares of numbers from 1 to 5\n",
    "for number in range(1, 6):\n",
    "    square = number ** 2\n",
    "    print(f\"The square of {number} is {square}\")"
   ]
  },
  {
   "cell_type": "markdown",
   "id": "429391bc",
   "metadata": {},
   "source": [
    "Question 8 :- Create a program to find the length of a string without using the `len()` function."
   ]
  },
  {
   "cell_type": "code",
   "execution_count": 11,
   "id": "00ae5318",
   "metadata": {},
   "outputs": [
    {
     "name": "stdout",
     "output_type": "stream",
     "text": [
      "Enter a string: Anuj\n",
      "Length of the string: 4\n"
     ]
    }
   ],
   "source": [
    "# Input the string from the user\n",
    "input_string = input(\"Enter a string: \")\n",
    "\n",
    "# Initializing a variable to count the characters\n",
    "length = 0\n",
    "\n",
    "# Using a for loop to iterate through the string and count the characters\n",
    "for char in input_string:\n",
    "    length += 1\n",
    "\n",
    "# Print the length of the string\n",
    "print(\"Length of the string:\", length)"
   ]
  },
  {
   "cell_type": "markdown",
   "id": "ce131ba0",
   "metadata": {},
   "source": [
    "Question 9 :- Write a program that calculates the average of a list of numbers using a `for` loop."
   ]
  },
  {
   "cell_type": "code",
   "execution_count": 12,
   "id": "15ac0fef",
   "metadata": {},
   "outputs": [
    {
     "name": "stdout",
     "output_type": "stream",
     "text": [
      "Average: 30.0\n"
     ]
    }
   ],
   "source": [
    "# Defining a list of numbers\n",
    "numbers = [10, 20, 30, 40, 50]\n",
    "\n",
    "# Initializing variables for sum and count\n",
    "total = 0\n",
    "count = 0\n",
    "\n",
    "# Using a for loop to calculate the sum of numbers and count the elements\n",
    "for number in numbers:\n",
    "    total += number\n",
    "    count += 1\n",
    "\n",
    "# Calculating the average\n",
    "average = total / count\n",
    "\n",
    "# Print the average\n",
    "print(\"Average:\", average)"
   ]
  },
  {
   "cell_type": "markdown",
   "id": "c99e77ba",
   "metadata": {},
   "source": [
    "Question 10 :- Develop a program that prints the first `n` Fibonacci numbers using a `for` loop."
   ]
  },
  {
   "cell_type": "code",
   "execution_count": 13,
   "id": "d9d55d1b",
   "metadata": {},
   "outputs": [
    {
     "name": "stdout",
     "output_type": "stream",
     "text": [
      "Enter the number of Fibonacci numbers to generate: 8\n",
      "The first 8 Fibonacci numbers are:\n",
      "0 1 1 2 3 5 8 13 "
     ]
    }
   ],
   "source": [
    "# Input the value of 'n' from the user\n",
    "n = int(input(\"Enter the number of Fibonacci numbers to generate: \"))\n",
    "\n",
    "# Initializing the first two Fibonacci numbers\n",
    "fibonacci_sequence = [0, 1]\n",
    "\n",
    "# Using a for loop to generate the Fibonacci sequence up to 'n' numbers\n",
    "for i in range(2, n):\n",
    "    next_number = fibonacci_sequence[i - 1] + fibonacci_sequence[i - 2]\n",
    "    fibonacci_sequence.append(next_number)\n",
    "\n",
    "# Print the first 'n' Fibonacci numbers\n",
    "print(\"The first\", n, \"Fibonacci numbers are:\")\n",
    "for number in fibonacci_sequence:\n",
    "    print(number, end=\" \")"
   ]
  },
  {
   "cell_type": "markdown",
   "id": "f6dee12a",
   "metadata": {},
   "source": [
    "Question 11 :- Write a program to check if a given list contains any duplicates using a `for` loop."
   ]
  },
  {
   "cell_type": "code",
   "execution_count": 14,
   "id": "6de4dbad",
   "metadata": {},
   "outputs": [
    {
     "name": "stdout",
     "output_type": "stream",
     "text": [
      "The list contains duplicates.\n"
     ]
    }
   ],
   "source": [
    "# Defining a list\n",
    "my_list = [1, 2, 3, 4, 5, 2]\n",
    "\n",
    "# Initializing a flag to indicate if duplicates are found\n",
    "has_duplicates = False\n",
    "\n",
    "# Using a for loop to iterate through the list\n",
    "for i in range(len(my_list)):\n",
    "    for j in range(i + 1, len(my_list)):\n",
    "        if my_list[i] == my_list[j]:\n",
    "            has_duplicates = True\n",
    "            break  # If a duplicate is found, exit the inner loop\n",
    "    if has_duplicates:\n",
    "        break  # If a duplicate is found, exit the outer loop\n",
    "\n",
    "# Checking the flag and printing the result\n",
    "if has_duplicates:\n",
    "    print(\"The list contains duplicates.\")\n",
    "else:\n",
    "    print(\"The list does not contain duplicates.\")"
   ]
  },
  {
   "cell_type": "markdown",
   "id": "415dc31f",
   "metadata": {},
   "source": [
    "Question 12 :- Create a program that prints the prime numbers in a given range using a `for` loop."
   ]
  },
  {
   "cell_type": "code",
   "execution_count": 17,
   "id": "48094241",
   "metadata": {},
   "outputs": [
    {
     "name": "stdout",
     "output_type": "stream",
     "text": [
      "Enter the start of the range: 0\n",
      "Enter the end of the range: 9\n",
      "Prime numbers between 0 and 9 are:\n",
      "2\n",
      "3\n",
      "5\n",
      "7\n"
     ]
    }
   ],
   "source": [
    "# Input range from the user\n",
    "start = int(input(\"Enter the start of the range: \"))\n",
    "end = int(input(\"Enter the end of the range: \"))\n",
    "\n",
    "print(f\"Prime numbers between {start} and {end} are:\")\n",
    "\n",
    "# Using a for loop to check each number in the given range\n",
    "for number in range(start, end + 1):\n",
    "    if number > 1:  # Prime numbers are greater than 1\n",
    "        is_prime = True\n",
    "\n",
    "        # Checking if the number is divisible by any integer from 2 to the square root of the number\n",
    "        for i in range(2, int(number**0.5) + 1):\n",
    "            if number % i == 0:\n",
    "                is_prime = False\n",
    "                break\n",
    "        \n",
    "        # If the number is prime, print it\n",
    "        if is_prime:\n",
    "            print(number)"
   ]
  },
  {
   "cell_type": "markdown",
   "id": "4deaf228",
   "metadata": {},
   "source": [
    "Question 13 :- Develop a program that counts the number of vowels in a string using a `for` loop."
   ]
  },
  {
   "cell_type": "code",
   "execution_count": 18,
   "id": "14033c37",
   "metadata": {},
   "outputs": [
    {
     "name": "stdout",
     "output_type": "stream",
     "text": [
      "Enter a string: hello welcome to the PWSKILSS\n",
      "Number of vowels in the string: 8\n"
     ]
    }
   ],
   "source": [
    "# Input the string from the user\n",
    "input_string = input(\"Enter a string: \")\n",
    "\n",
    "# Converting the input string to lowercase (to handle both uppercase and lowercase vowels)\n",
    "input_string = input_string.lower()\n",
    "\n",
    "# Initializing a variable to count the vowels\n",
    "vowel_count = 0\n",
    "\n",
    "# Defining a set of vowels\n",
    "vowels = {'a', 'e', 'i', 'o', 'u'}\n",
    "\n",
    "# Using a for loop to iterate through the characters in the string\n",
    "for char in input_string:\n",
    "    if char in vowels:\n",
    "        vowel_count += 1\n",
    "\n",
    "# Printing the count of vowels\n",
    "print(\"Number of vowels in the string:\", vowel_count)"
   ]
  },
  {
   "cell_type": "markdown",
   "id": "0d588630",
   "metadata": {},
   "source": [
    "Question 14 :- Write a program to find the maximum element in a 2D list using a nested `for` loop."
   ]
  },
  {
   "cell_type": "code",
   "execution_count": 19,
   "id": "3e1f959b",
   "metadata": {},
   "outputs": [
    {
     "name": "stdout",
     "output_type": "stream",
     "text": [
      "Maximum element in the 2D list is: 86\n"
     ]
    }
   ],
   "source": [
    "# Defining a 2D list (matrix)\n",
    "matrix = [\n",
    "    [8, 10, 4],\n",
    "    [34, 23, 86],\n",
    "    [6, 16, 44]\n",
    "]\n",
    "\n",
    "# Initializing a variable to store the maximum element (assuming the first element is the maximum)\n",
    "max_element = matrix[0][0]\n",
    "\n",
    "# Using nested for loops to iterate through the elements in the matrix\n",
    "for row in matrix:\n",
    "    for element in row:\n",
    "        if element > max_element:\n",
    "            max_element = element\n",
    "\n",
    "# Print the maximum element\n",
    "print(\"Maximum element in the 2D list is:\", max_element)"
   ]
  },
  {
   "cell_type": "markdown",
   "id": "3d3df0a7",
   "metadata": {},
   "source": [
    "Question 15 :- Create a program that removes all occurrences of a specific element from a list using a `for` loop."
   ]
  },
  {
   "cell_type": "code",
   "execution_count": 21,
   "id": "e89f99b4",
   "metadata": {},
   "outputs": [
    {
     "name": "stdout",
     "output_type": "stream",
     "text": [
      "Enter the start of the range: 2\n",
      "List after removing all occurrences of 2 : [1, 3, 4, 5, 6]\n"
     ]
    }
   ],
   "source": [
    "# Defining a list\n",
    "my_list = [1, 2, 3, 4, 2, 5, 6, 2]\n",
    "\n",
    "# Taking input for the element to remove\n",
    "element_to_remove = int(input(\"Enter the start of the range: \"))\n",
    "\n",
    "# Use a for loop to iterate through the list and remove the specified element\n",
    "for item in my_list:\n",
    "    if item == element_to_remove:\n",
    "        my_list.remove(element_to_remove)\n",
    "\n",
    "# Print the modified list\n",
    "print(\"List after removing all occurrences of\", element_to_remove, \":\", my_list)"
   ]
  },
  {
   "cell_type": "markdown",
   "id": "b2aed445",
   "metadata": {},
   "source": [
    "Question 16 :- Develop a program that generates a multiplication table for numbers from 1 to 5 using a nested `for` loop."
   ]
  },
  {
   "cell_type": "code",
   "execution_count": 22,
   "id": "c56d112b",
   "metadata": {},
   "outputs": [
    {
     "name": "stdout",
     "output_type": "stream",
     "text": [
      "Multiplication Table:\n",
      "1 x 1 = 1\n",
      "1 x 2 = 2\n",
      "1 x 3 = 3\n",
      "1 x 4 = 4\n",
      "1 x 5 = 5\n",
      "1 x 6 = 6\n",
      "1 x 7 = 7\n",
      "1 x 8 = 8\n",
      "1 x 9 = 9\n",
      "1 x 10 = 10\n",
      "\n",
      "2 x 1 = 2\n",
      "2 x 2 = 4\n",
      "2 x 3 = 6\n",
      "2 x 4 = 8\n",
      "2 x 5 = 10\n",
      "2 x 6 = 12\n",
      "2 x 7 = 14\n",
      "2 x 8 = 16\n",
      "2 x 9 = 18\n",
      "2 x 10 = 20\n",
      "\n",
      "3 x 1 = 3\n",
      "3 x 2 = 6\n",
      "3 x 3 = 9\n",
      "3 x 4 = 12\n",
      "3 x 5 = 15\n",
      "3 x 6 = 18\n",
      "3 x 7 = 21\n",
      "3 x 8 = 24\n",
      "3 x 9 = 27\n",
      "3 x 10 = 30\n",
      "\n",
      "4 x 1 = 4\n",
      "4 x 2 = 8\n",
      "4 x 3 = 12\n",
      "4 x 4 = 16\n",
      "4 x 5 = 20\n",
      "4 x 6 = 24\n",
      "4 x 7 = 28\n",
      "4 x 8 = 32\n",
      "4 x 9 = 36\n",
      "4 x 10 = 40\n",
      "\n",
      "5 x 1 = 5\n",
      "5 x 2 = 10\n",
      "5 x 3 = 15\n",
      "5 x 4 = 20\n",
      "5 x 5 = 25\n",
      "5 x 6 = 30\n",
      "5 x 7 = 35\n",
      "5 x 8 = 40\n",
      "5 x 9 = 45\n",
      "5 x 10 = 50\n",
      "\n"
     ]
    }
   ],
   "source": [
    "# Defining the range of numbers for the multiplication table\n",
    "start = 1\n",
    "end = 5\n",
    "\n",
    "# Using nested for loops to generate the multiplication table\n",
    "print(\"Multiplication Table:\")\n",
    "for i in range(start, end + 1):\n",
    "    for j in range(1, 11):\n",
    "        result = i * j\n",
    "        print(f\"{i} x {j} = {result}\")\n",
    "    print()  # Add a blank line to separate tables"
   ]
  },
  {
   "cell_type": "markdown",
   "id": "684d52d9",
   "metadata": {},
   "source": [
    "Question 17 :- Write a program that converts a list of Fahrenheit temperatures to Celsius using a `for` loop."
   ]
  },
  {
   "cell_type": "code",
   "execution_count": 23,
   "id": "6984b6ba",
   "metadata": {},
   "outputs": [
    {
     "name": "stdout",
     "output_type": "stream",
     "text": [
      "Fahrenheit Temperatures: [32, 68, 86, 104, 212]\n",
      "Celsius Temperatures: [0.0, 20.0, 30.0, 40.0, 100.0]\n"
     ]
    }
   ],
   "source": [
    "# Defining a list of Fahrenheit temperatures\n",
    "fahrenheit_temperatures = [32, 68, 86, 104, 212]\n",
    "\n",
    "# Initializing an empty list to store the Celsius temperatures\n",
    "celsius_temperatures = []\n",
    "\n",
    "# Using a for loop to convert each Fahrenheit temperature to Celsius\n",
    "for fahrenheit in fahrenheit_temperatures:\n",
    "    celsius = (fahrenheit - 32) * 5/9\n",
    "    celsius_temperatures.append(celsius)\n",
    "\n",
    "# Print the original and converted temperatures\n",
    "print(\"Fahrenheit Temperatures:\", fahrenheit_temperatures)\n",
    "print(\"Celsius Temperatures:\", celsius_temperatures)"
   ]
  },
  {
   "cell_type": "markdown",
   "id": "442ed20d",
   "metadata": {},
   "source": [
    "Question 18 :- Create a program to print the common elements from two lists using a `for` loop."
   ]
  },
  {
   "cell_type": "code",
   "execution_count": 24,
   "id": "b184e19f",
   "metadata": {},
   "outputs": [
    {
     "name": "stdout",
     "output_type": "stream",
     "text": [
      "Common elements: [3, 4, 5]\n"
     ]
    }
   ],
   "source": [
    "# Defining two lists\n",
    "list1 = [1, 2, 3, 4, 5]\n",
    "list2 = [3, 4, 5, 6, 7]\n",
    "\n",
    "# Initializing an empty list to store common elements\n",
    "common_elements = []\n",
    "\n",
    "# Using a for loop to iterate through elements in list1\n",
    "for element1 in list1:\n",
    "    # Using another for loop to iterate through elements in list2\n",
    "    for element2 in list2:\n",
    "        # Checking if the elements match\n",
    "        if element1 == element2:\n",
    "            # If they match, add the element to the common_elements list\n",
    "            common_elements.append(element1)\n",
    "            # Break the inner loop to avoid adding duplicates\n",
    "            break\n",
    "\n",
    "# Print the common elements\n",
    "print(\"Common elements:\", common_elements)"
   ]
  },
  {
   "cell_type": "markdown",
   "id": "bba1b397",
   "metadata": {},
   "source": [
    "Question 19 :- Develop a program that prints the pattern of right-angled triangles using a `for` loop. Use ‘*’ to draw the\n",
    "pattern"
   ]
  },
  {
   "cell_type": "code",
   "execution_count": 26,
   "id": "a7b78542",
   "metadata": {},
   "outputs": [
    {
     "name": "stdout",
     "output_type": "stream",
     "text": [
      "*\n",
      "**\n",
      "***\n",
      "****\n",
      "*****\n"
     ]
    }
   ],
   "source": [
    "# Defining the height of the right-angled triangle\n",
    "height = 5  # we can change this value to adjust the height of the triangle\n",
    "\n",
    "# Use a for loop to iterate through each row\n",
    "for i in range(1, height + 1):\n",
    "    # Using another for loop to print asterisks in each row\n",
    "    for j in range(i):\n",
    "        print('*', end='')\n",
    "    print()  # Moving to the next line after printing each row"
   ]
  },
  {
   "cell_type": "markdown",
   "id": "c718c22b",
   "metadata": {},
   "source": [
    "Question 20 :- Write a program to find the greatest common divisor (GCD) of two numbers using a `for` loop."
   ]
  },
  {
   "cell_type": "code",
   "execution_count": 27,
   "id": "24f3b005",
   "metadata": {},
   "outputs": [
    {
     "name": "stdout",
     "output_type": "stream",
     "text": [
      "Enter the first number: 2\n",
      "Enter the second number: 4\n",
      "The Greatest Common Divisor (GCD) of 4 and 2 is 2\n"
     ]
    }
   ],
   "source": [
    "# Input two numbers from the user\n",
    "num1 = int(input(\"Enter the first number: \"))\n",
    "num2 = int(input(\"Enter the second number: \"))\n",
    "\n",
    "# Ensure num1 is greater than or equal to num2\n",
    "if num1 < num2:\n",
    "    num1, num2 = num2, num1\n",
    "\n",
    "# Initializing a variable to store the GCD\n",
    "gcd = 1\n",
    "\n",
    "# Using a for loop to find the GCD\n",
    "for i in range(2, num2 + 1):\n",
    "    if num1 % i == 0 and num2 % i == 0:\n",
    "        gcd = i\n",
    "\n",
    "# Print the GCD\n",
    "print(\"The Greatest Common Divisor (GCD) of\", num1, \"and\", num2, \"is\", gcd)"
   ]
  },
  {
   "cell_type": "markdown",
   "id": "8a215026",
   "metadata": {},
   "source": [
    "Question 21 :- Create a program that calculates the sum of the digits of numbers in a list using a list comprehension."
   ]
  },
  {
   "cell_type": "code",
   "execution_count": 30,
   "id": "2bccad89",
   "metadata": {},
   "outputs": [
    {
     "name": "stdout",
     "output_type": "stream",
     "text": [
      "Number 324: Sum of digits = 9\n",
      "Number 44: Sum of digits = 8\n",
      "Number 6725: Sum of digits = 20\n",
      "Number 12: Sum of digits = 3\n",
      "Number 786: Sum of digits = 21\n"
     ]
    }
   ],
   "source": [
    "# Defining a list of numbers\n",
    "numbers = [324, 44, 6725, 12, 786]\n",
    "\n",
    "# Using a list comprehension to calculate the sum of digits for each number in the list\n",
    "digit_sums = [sum(int(digit) for digit in str(number)) for number in numbers]\n",
    "\n",
    "# Print the results\n",
    "for i, number in enumerate(numbers):\n",
    "    print(f\"Number {number}: Sum of digits = {digit_sums[i]}\")"
   ]
  },
  {
   "cell_type": "markdown",
   "id": "d8af7851",
   "metadata": {},
   "source": [
    "Question 22 :- Write a program to find the prime factors of a given number using a `for` loop and list comprehension."
   ]
  },
  {
   "cell_type": "code",
   "execution_count": 31,
   "id": "921231dd",
   "metadata": {},
   "outputs": [
    {
     "name": "stdout",
     "output_type": "stream",
     "text": [
      "Enter a number: 4\n",
      "Prime factors of the number: [2]\n"
     ]
    }
   ],
   "source": [
    "# Input the number from the user\n",
    "number = int(input(\"Enter a number: \"))\n",
    "\n",
    "# Initializing an empty list to store prime factors\n",
    "prime_factors = []\n",
    "\n",
    "# Using a for loop to find prime factors\n",
    "for factor in range(2, number + 1):\n",
    "    while number % factor == 0:\n",
    "        prime_factors.append(factor)\n",
    "        number //= factor\n",
    "\n",
    "# Using list comprehension to remove duplicates\n",
    "unique_prime_factors = list(set(prime_factors))\n",
    "\n",
    "# Print the prime factors\n",
    "print(\"Prime factors of the number:\", unique_prime_factors)"
   ]
  },
  {
   "cell_type": "markdown",
   "id": "19f9b7e4",
   "metadata": {},
   "source": [
    "Question 23 :- Develop a program that extracts unique elements from a list and stores them in a new list using a list\n",
    "comprehension."
   ]
  },
  {
   "cell_type": "code",
   "execution_count": 32,
   "id": "95e7234d",
   "metadata": {},
   "outputs": [
    {
     "name": "stdout",
     "output_type": "stream",
     "text": [
      "Original List: [1, 2, 2, 3, 4, 4, 5, 6, 6]\n",
      "Unique List: [1, 2, 3, 4, 5, 6]\n"
     ]
    }
   ],
   "source": [
    "# Defining a list with duplicate elements\n",
    "original_list = [1, 2, 2, 3, 4, 4, 5, 6, 6]\n",
    "\n",
    "# Using a list comprehension to extract unique elements\n",
    "unique_list = [x for i, x in enumerate(original_list) if x not in original_list[:i]]\n",
    "\n",
    "# Print the unique elements\n",
    "print(\"Original List:\", original_list)\n",
    "print(\"Unique List:\", unique_list)"
   ]
  },
  {
   "cell_type": "markdown",
   "id": "ee41ba49",
   "metadata": {},
   "source": [
    "Question 24 :- Create a program that generates a list of all palindromic numbers up to a specified limit using a list\n",
    "comprehension."
   ]
  },
  {
   "cell_type": "code",
   "execution_count": 34,
   "id": "8676c099",
   "metadata": {},
   "outputs": [
    {
     "name": "stdout",
     "output_type": "stream",
     "text": [
      "Enter the limit for palindromic numbers: 56\n",
      "Palindromic numbers up to 56 are: [1, 2, 3, 4, 5, 6, 7, 8, 9, 11, 22, 33, 44, 55]\n"
     ]
    }
   ],
   "source": [
    "# Input: Get the specified limit from the user\n",
    "limit = int(input(\"Enter the limit for palindromic numbers: \"))\n",
    "\n",
    "# Use a list comprehension to generate palindromic numbers\n",
    "palindromic_numbers = [num for num in range(1, limit + 1) if str(num) == str(num)[::-1]]\n",
    "\n",
    "# Print the list of palindromic numbers\n",
    "print(\"Palindromic numbers up to\", limit, \"are:\", palindromic_numbers)"
   ]
  },
  {
   "cell_type": "markdown",
   "id": "4bb9a341",
   "metadata": {},
   "source": [
    "Question 25 :- Write a program to flatten a nested list using list comprehension."
   ]
  },
  {
   "cell_type": "code",
   "execution_count": 35,
   "id": "0aafc45f",
   "metadata": {},
   "outputs": [
    {
     "name": "stdout",
     "output_type": "stream",
     "text": [
      "Nested List: [[1, 2, 3], [4, 5], [6, 7, 8]]\n",
      "Flattened List: [1, 2, 3, 4, 5, 6, 7, 8]\n"
     ]
    }
   ],
   "source": [
    "# Defining a nested list\n",
    "nested_list = [[1, 2, 3], [4, 5], [6, 7, 8]]\n",
    "\n",
    "# Use list comprehension to flatten the nested list\n",
    "flattened_list = [item for sublist in nested_list for item in sublist]\n",
    "\n",
    "# Print the flattened list\n",
    "print(\"Nested List:\", nested_list)\n",
    "print(\"Flattened List:\", flattened_list)"
   ]
  },
  {
   "cell_type": "markdown",
   "id": "f023315f",
   "metadata": {},
   "source": [
    "Question 26 :- Develop a program that computes the sum of even and odd numbers in a list separately using list\n",
    "comprehension."
   ]
  },
  {
   "cell_type": "code",
   "execution_count": 36,
   "id": "0e70e52a",
   "metadata": {},
   "outputs": [
    {
     "name": "stdout",
     "output_type": "stream",
     "text": [
      "Original List: [1, 2, 3, 4, 5, 6, 7, 8, 9, 10]\n",
      "Sum of Even Numbers: 30\n",
      "Sum of Odd Numbers: 25\n"
     ]
    }
   ],
   "source": [
    "# Defining a list of numbers\n",
    "numbers = [1, 2, 3, 4, 5, 6, 7, 8, 9, 10]\n",
    "\n",
    "# Using list comprehensions to compute the sum of even and odd numbers separately\n",
    "even_sum = sum([num for num in numbers if num % 2 == 0])\n",
    "odd_sum = sum([num for num in numbers if num % 2 != 0])\n",
    "\n",
    "# Print the sums\n",
    "print(\"Original List:\", numbers)\n",
    "print(\"Sum of Even Numbers:\", even_sum)\n",
    "print(\"Sum of Odd Numbers:\", odd_sum)"
   ]
  },
  {
   "cell_type": "markdown",
   "id": "26d6733e",
   "metadata": {},
   "source": [
    "Question 27 :- Create a program that generates a list of squares of odd numbers between 1 and 10 using list\n",
    "comprehension."
   ]
  },
  {
   "cell_type": "code",
   "execution_count": 38,
   "id": "7bd7dae8",
   "metadata": {},
   "outputs": [
    {
     "name": "stdout",
     "output_type": "stream",
     "text": [
      "Squares of Odd Numbers between 1 and 10: [1, 9, 25, 49, 81]\n"
     ]
    }
   ],
   "source": [
    "# Using list comprehension to generate a list of squares of odd numbers between 1 and 10\n",
    "squares_of_odd_numbers = [x ** 2 for x in range(1, 11) if x % 2 != 0]\n",
    "\n",
    "# Print the list of squares\n",
    "print(\"Squares of Odd Numbers between 1 and 10:\", squares_of_odd_numbers)"
   ]
  },
  {
   "cell_type": "markdown",
   "id": "19a6db11",
   "metadata": {},
   "source": [
    "Question 28 :- Write a program that combines two lists into a dictionary using list comprehension."
   ]
  },
  {
   "cell_type": "code",
   "execution_count": 39,
   "id": "8f73c4ad",
   "metadata": {},
   "outputs": [
    {
     "name": "stdout",
     "output_type": "stream",
     "text": [
      "Combined Dictionary: {'name': 'Alice', 'age': 30, 'city': 'New York'}\n"
     ]
    }
   ],
   "source": [
    "# Define two lists\n",
    "keys = [\"name\", \"age\", \"city\"]\n",
    "values = [\"Alice\", 30, \"New York\"]\n",
    "\n",
    "# Use list comprehension to create a dictionary\n",
    "result_dict = {keys[i]: values[i] for i in range(len(keys))}\n",
    "\n",
    "# Print the resulting dictionary\n",
    "print(\"Combined Dictionary:\", result_dict)"
   ]
  },
  {
   "cell_type": "markdown",
   "id": "5ec7dc4c",
   "metadata": {},
   "source": [
    "Question 29 :- Develop a program that extracts the vowels from a string and stores them in a list using list comprehension."
   ]
  },
  {
   "cell_type": "code",
   "execution_count": 40,
   "id": "68a51ecb",
   "metadata": {},
   "outputs": [
    {
     "name": "stdout",
     "output_type": "stream",
     "text": [
      "Enter a string: Welcome to PWSKILLS\n",
      "Vowels in the string: ['e', 'o', 'e', 'o', 'i']\n"
     ]
    }
   ],
   "source": [
    "# Input: Get a string from the user\n",
    "input_string = input(\"Enter a string: \")\n",
    "\n",
    "# Define a list of vowels\n",
    "vowels = ['a', 'e', 'i', 'o', 'u']\n",
    "\n",
    "# Use list comprehension to extract vowels from the input string\n",
    "vowel_list = [char for char in input_string.lower() if char in vowels]\n",
    "\n",
    "# Print the list of vowels\n",
    "print(\"Vowels in the string:\", vowel_list)"
   ]
  },
  {
   "cell_type": "markdown",
   "id": "23737a6c",
   "metadata": {},
   "source": [
    "Question 30 :- Create a program that removes all non-numeric characters from a list of strings using list comprehension."
   ]
  },
  {
   "cell_type": "code",
   "execution_count": 41,
   "id": "73a70953",
   "metadata": {},
   "outputs": [
    {
     "name": "stdout",
     "output_type": "stream",
     "text": [
      "Original List of Strings: ['abc123', '456def', '789', 'xyz']\n",
      "Numeric Strings: ['123', '456', '789', '']\n"
     ]
    }
   ],
   "source": [
    "# Define a list of strings\n",
    "string_list = [\"abc123\", \"456def\", \"789\", \"xyz\"]\n",
    "\n",
    "# Use list comprehension to remove non-numeric characters from the strings\n",
    "numeric_strings = [''.join(char for char in string if char.isdigit()) for string in string_list]\n",
    "\n",
    "# Print the list of numeric strings\n",
    "print(\"Original List of Strings:\", string_list)\n",
    "print(\"Numeric Strings:\", numeric_strings)"
   ]
  },
  {
   "cell_type": "markdown",
   "id": "1fd145a9",
   "metadata": {},
   "source": [
    "Question 31 :- Write a program to generate a list of prime numbers using the Sieve of Eratosthenes algorithm and list\n",
    "comprehension."
   ]
  },
  {
   "cell_type": "code",
   "execution_count": 42,
   "id": "b8aa2840",
   "metadata": {},
   "outputs": [
    {
     "name": "stdout",
     "output_type": "stream",
     "text": [
      "Enter the limit for prime numbers: 8\n",
      "Prime Numbers up to 8 are: [2, 3, 5, 7]\n"
     ]
    }
   ],
   "source": [
    "# Input: Get the limit for finding prime numbers from the user\n",
    "limit = int(input(\"Enter the limit for prime numbers: \"))\n",
    "\n",
    "# Create a list to mark numbers as prime or not (initialize all as True)\n",
    "is_prime = [True] * (limit + 1)\n",
    "\n",
    "# Mark 0 and 1 as not prime\n",
    "is_prime[0] = is_prime[1] = False\n",
    "\n",
    "# Use Sieve of Eratosthenes algorithm to mark non-prime numbers\n",
    "for num in range(2, int(limit**0.5) + 1):\n",
    "    if is_prime[num]:\n",
    "        for multiple in range(num * num, limit + 1, num):\n",
    "            is_prime[multiple] = False\n",
    "\n",
    "# Use list comprehension to generate a list of prime numbers\n",
    "prime_numbers = [num for num in range(2, limit + 1) if is_prime[num]]\n",
    "\n",
    "# Print the list of prime numbers\n",
    "print(\"Prime Numbers up to\", limit, \"are:\", prime_numbers)"
   ]
  },
  {
   "cell_type": "markdown",
   "id": "48785aff",
   "metadata": {},
   "source": [
    "Question 32 :- Create a program that generates a list of all Pythagorean triplets up to a specified limit using list\n",
    "comprehension."
   ]
  },
  {
   "cell_type": "code",
   "execution_count": 43,
   "id": "5b6d637c",
   "metadata": {},
   "outputs": [
    {
     "name": "stdout",
     "output_type": "stream",
     "text": [
      "Enter the limit for Pythagorean triplets: 6\n",
      "Pythagorean Triplets up to 6 are: [(3, 4, 5)]\n"
     ]
    }
   ],
   "source": [
    "# Input: Get the specified limit from the user\n",
    "limit = int(input(\"Enter the limit for Pythagorean triplets: \"))\n",
    "\n",
    "# Use nested for loops to generate Pythagorean triplets\n",
    "pythagorean_triplets = [(a, b, c) for a in range(1, limit + 1)\n",
    "                         for b in range(a, limit + 1)\n",
    "                         for c in range(b, limit + 1)\n",
    "                         if a**2 + b**2 == c**2]\n",
    "\n",
    "# Print the list of Pythagorean triplets\n",
    "print(\"Pythagorean Triplets up to\", limit, \"are:\", pythagorean_triplets)"
   ]
  },
  {
   "cell_type": "markdown",
   "id": "88c9883a",
   "metadata": {},
   "source": [
    "Question 33 :- Develop a program that generates a list of all possible combinations of two lists using list comprehension."
   ]
  },
  {
   "cell_type": "code",
   "execution_count": 44,
   "id": "a5591d4e",
   "metadata": {},
   "outputs": [
    {
     "name": "stdout",
     "output_type": "stream",
     "text": [
      "Combinations of two lists:\n",
      "(1, 'a')\n",
      "(1, 'b')\n",
      "(1, 'c')\n",
      "(2, 'a')\n",
      "(2, 'b')\n",
      "(2, 'c')\n",
      "(3, 'a')\n",
      "(3, 'b')\n",
      "(3, 'c')\n"
     ]
    }
   ],
   "source": [
    "# Define two lists\n",
    "list1 = [1, 2, 3]\n",
    "list2 = ['a', 'b', 'c']\n",
    "\n",
    "# Use nested list comprehension to generate combinations\n",
    "combinations = [(x, y) for x in list1 for y in list2]\n",
    "\n",
    "# Print the list of combinations\n",
    "print(\"Combinations of two lists:\")\n",
    "for combination in combinations:\n",
    "    print(combination)"
   ]
  },
  {
   "cell_type": "markdown",
   "id": "13a06273",
   "metadata": {},
   "source": [
    "Question 34 :- Write a program that calculates the mean, median, and mode of a list of numbers using list\n",
    "comprehension."
   ]
  },
  {
   "cell_type": "code",
   "execution_count": 47,
   "id": "d4b4a4ea",
   "metadata": {},
   "outputs": [
    {
     "name": "stdout",
     "output_type": "stream",
     "text": [
      "List of Numbers: [3, 6, 4, 8, 3, 8, 2, 9, 6, 7]\n",
      "Mean: 5.6\n",
      "Median: 6.0\n"
     ]
    }
   ],
   "source": [
    "# Defining a list of numbers\n",
    "numbers = [3, 6, 4, 8, 3, 8, 2, 9, 6, 7]\n",
    "\n",
    "# Calculating the mean using list comprehension\n",
    "mean = sum(numbers) / len(numbers)\n",
    "\n",
    "# Calculating the median using list comprehension\n",
    "sorted_numbers = sorted(numbers)\n",
    "median = (sorted_numbers[len(sorted_numbers) // 2] + sorted_numbers[(len(sorted_numbers) - 1) // 2]) / 2\n",
    "\n",
    "# Print the mean and median\n",
    "print(\"List of Numbers:\", numbers)\n",
    "print(\"Mean:\", mean)\n",
    "print(\"Median:\", median)"
   ]
  },
  {
   "cell_type": "markdown",
   "id": "3555becb",
   "metadata": {},
   "source": [
    "Question 35 :- Create a program that generates Pascal's triangle up to a specified number of rows using list\n",
    "comprehension."
   ]
  },
  {
   "cell_type": "code",
   "execution_count": 48,
   "id": "02089d1b",
   "metadata": {},
   "outputs": [
    {
     "name": "stdout",
     "output_type": "stream",
     "text": [
      "Enter the number of rows for Pascal's triangle: 4\n",
      "Pascal's Triangle (up to 4 rows):\n",
      "       1        \n",
      "      1 1       \n",
      "     1 2 1      \n",
      "    1 3 3 1     \n"
     ]
    }
   ],
   "source": [
    "# Input: Get the number of rows for Pascal's triangle from the user\n",
    "num_rows = int(input(\"Enter the number of rows for Pascal's triangle: \"))\n",
    "\n",
    "# Function to calculate the binomial coefficient (n choose k)\n",
    "def binomial_coefficient(n, k):\n",
    "    if k == 0 or k == n:\n",
    "        return 1\n",
    "    return binomial_coefficient(n - 1, k - 1) + binomial_coefficient(n - 1, k)\n",
    "\n",
    "# Generate Pascal's triangle using nested loops\n",
    "pascals_triangle = [[binomial_coefficient(n, k) for k in range(n + 1)] for n in range(num_rows)]\n",
    "\n",
    "# Print Pascal's triangle\n",
    "print(\"Pascal's Triangle (up to\", num_rows, \"rows):\")\n",
    "for row in pascals_triangle:\n",
    "    print(' '.join(map(str, row)).center(num_rows * 4))"
   ]
  },
  {
   "cell_type": "markdown",
   "id": "97645c5f",
   "metadata": {},
   "source": [
    "Question 36 :- Develop a program that calculates the sum of the digits of a factorial of numbers from 1 to 5 using list\n",
    "comprehension."
   ]
  },
  {
   "cell_type": "code",
   "execution_count": 49,
   "id": "8cf1481f",
   "metadata": {},
   "outputs": [
    {
     "name": "stdout",
     "output_type": "stream",
     "text": [
      "Factorials and Sum of Digits:\n",
      "1! = 1, Sum of Digits = 1\n",
      "2! = 2, Sum of Digits = 2\n",
      "3! = 6, Sum of Digits = 6\n",
      "4! = 24, Sum of Digits = 6\n",
      "5! = 120, Sum of Digits = 3\n"
     ]
    }
   ],
   "source": [
    "# Function to calculate the factorial of a number\n",
    "def factorial(n):\n",
    "    if n == 0:\n",
    "        return 1\n",
    "    else:\n",
    "        return n * factorial(n - 1)\n",
    "\n",
    "# List comprehension to calculate the sum of digits for factorials from 1 to 5\n",
    "digit_sums = [sum(int(digit) for digit in str(factorial(n))) for n in range(1, 6)]\n",
    "\n",
    "# Print the results\n",
    "print(\"Factorials and Sum of Digits:\")\n",
    "for n, digit_sum in enumerate(digit_sums, start=1):\n",
    "    print(f\"{n}! = {factorial(n)}, Sum of Digits = {digit_sum}\")"
   ]
  },
  {
   "cell_type": "markdown",
   "id": "6fa2a2be",
   "metadata": {},
   "source": [
    "Question 37 :- Write a program that finds the longest word in a sentence using list comprehension."
   ]
  },
  {
   "cell_type": "code",
   "execution_count": 50,
   "id": "edf1dd77",
   "metadata": {},
   "outputs": [
    {
     "name": "stdout",
     "output_type": "stream",
     "text": [
      "Enter a sentence: Hello Welcome to the PWSKILLS\n",
      "Longest word in the sentence: PWSKILLS\n"
     ]
    }
   ],
   "source": [
    "# Input: Get a sentence from the user\n",
    "sentence = input(\"Enter a sentence: \")\n",
    "\n",
    "# Use list comprehension to split the sentence into words\n",
    "words = sentence.split()\n",
    "\n",
    "# Find the longest word using list comprehension\n",
    "longest_word = max(words, key=lambda word: len(word))\n",
    "\n",
    "# Print the longest word\n",
    "print(\"Longest word in the sentence:\", longest_word)"
   ]
  },
  {
   "cell_type": "markdown",
   "id": "8357c567",
   "metadata": {},
   "source": [
    "Question 38 :- Create a program that filters a list of strings to include only those with more than three vowels using list\n",
    "comprehension."
   ]
  },
  {
   "cell_type": "code",
   "execution_count": 56,
   "id": "69be6af5",
   "metadata": {},
   "outputs": [
    {
     "name": "stdout",
     "output_type": "stream",
     "text": [
      "Original List of Strings: ['hello', 'world', 'python', 'programming', 'aieo', 'ioua']\n",
      "Strings with more than three vowels: ['aieo', 'ioua']\n"
     ]
    }
   ],
   "source": [
    "# Define a list of strings\n",
    "string_list = [\"hello\", \"world\", \"python\", \"programming\", \"aieo\", \"ioua\"]\n",
    "\n",
    "# Define a function to count vowels in a string\n",
    "def count_vowels(string):\n",
    "    vowels = \"aeiouAEIOU\"\n",
    "    return sum(1 for char in string if char in vowels)\n",
    "\n",
    "# Use list comprehension to filter strings with more than three vowels\n",
    "filtered_strings = [string for string in string_list if count_vowels(string) > 3]\n",
    "\n",
    "# Print the filtered strings\n",
    "print(\"Original List of Strings:\", string_list)\n",
    "print(\"Strings with more than three vowels:\", filtered_strings)"
   ]
  },
  {
   "cell_type": "markdown",
   "id": "df08244f",
   "metadata": {},
   "source": [
    "Question 39 :- Develop a program that calculates the sum of the digits of numbers from 1 to 1000 using list\n",
    "comprehension."
   ]
  },
  {
   "cell_type": "code",
   "execution_count": 58,
   "id": "169abc1e",
   "metadata": {},
   "outputs": [
    {
     "name": "stdout",
     "output_type": "stream",
     "text": [
      "Sum of Digits for Numbers from 1 to 1000:\n",
      "Number 1: Sum of Digits = 1\n",
      "Number 2: Sum of Digits = 2\n",
      "Number 3: Sum of Digits = 3\n",
      "Number 4: Sum of Digits = 4\n",
      "Number 5: Sum of Digits = 5\n",
      "Number 6: Sum of Digits = 6\n",
      "Number 7: Sum of Digits = 7\n",
      "Number 8: Sum of Digits = 8\n",
      "Number 9: Sum of Digits = 9\n",
      "Number 10: Sum of Digits = 1\n",
      "Number 11: Sum of Digits = 2\n",
      "Number 12: Sum of Digits = 3\n",
      "Number 13: Sum of Digits = 4\n",
      "Number 14: Sum of Digits = 5\n",
      "Number 15: Sum of Digits = 6\n",
      "Number 16: Sum of Digits = 7\n",
      "Number 17: Sum of Digits = 8\n",
      "Number 18: Sum of Digits = 9\n",
      "Number 19: Sum of Digits = 10\n",
      "Number 20: Sum of Digits = 2\n",
      "Number 21: Sum of Digits = 3\n",
      "Number 22: Sum of Digits = 4\n",
      "Number 23: Sum of Digits = 5\n",
      "Number 24: Sum of Digits = 6\n",
      "Number 25: Sum of Digits = 7\n",
      "Number 26: Sum of Digits = 8\n",
      "Number 27: Sum of Digits = 9\n",
      "Number 28: Sum of Digits = 10\n",
      "Number 29: Sum of Digits = 11\n",
      "Number 30: Sum of Digits = 3\n",
      "Number 31: Sum of Digits = 4\n",
      "Number 32: Sum of Digits = 5\n",
      "Number 33: Sum of Digits = 6\n",
      "Number 34: Sum of Digits = 7\n",
      "Number 35: Sum of Digits = 8\n",
      "Number 36: Sum of Digits = 9\n",
      "Number 37: Sum of Digits = 10\n",
      "Number 38: Sum of Digits = 11\n",
      "Number 39: Sum of Digits = 12\n",
      "Number 40: Sum of Digits = 4\n",
      "Number 41: Sum of Digits = 5\n",
      "Number 42: Sum of Digits = 6\n",
      "Number 43: Sum of Digits = 7\n",
      "Number 44: Sum of Digits = 8\n",
      "Number 45: Sum of Digits = 9\n",
      "Number 46: Sum of Digits = 10\n",
      "Number 47: Sum of Digits = 11\n",
      "Number 48: Sum of Digits = 12\n",
      "Number 49: Sum of Digits = 13\n",
      "Number 50: Sum of Digits = 5\n",
      "Number 51: Sum of Digits = 6\n",
      "Number 52: Sum of Digits = 7\n",
      "Number 53: Sum of Digits = 8\n",
      "Number 54: Sum of Digits = 9\n",
      "Number 55: Sum of Digits = 10\n",
      "Number 56: Sum of Digits = 11\n",
      "Number 57: Sum of Digits = 12\n",
      "Number 58: Sum of Digits = 13\n",
      "Number 59: Sum of Digits = 14\n",
      "Number 60: Sum of Digits = 6\n",
      "Number 61: Sum of Digits = 7\n",
      "Number 62: Sum of Digits = 8\n",
      "Number 63: Sum of Digits = 9\n",
      "Number 64: Sum of Digits = 10\n",
      "Number 65: Sum of Digits = 11\n",
      "Number 66: Sum of Digits = 12\n",
      "Number 67: Sum of Digits = 13\n",
      "Number 68: Sum of Digits = 14\n",
      "Number 69: Sum of Digits = 15\n",
      "Number 70: Sum of Digits = 7\n",
      "Number 71: Sum of Digits = 8\n",
      "Number 72: Sum of Digits = 9\n",
      "Number 73: Sum of Digits = 10\n",
      "Number 74: Sum of Digits = 11\n",
      "Number 75: Sum of Digits = 12\n",
      "Number 76: Sum of Digits = 13\n",
      "Number 77: Sum of Digits = 14\n",
      "Number 78: Sum of Digits = 15\n",
      "Number 79: Sum of Digits = 16\n",
      "Number 80: Sum of Digits = 8\n",
      "Number 81: Sum of Digits = 9\n",
      "Number 82: Sum of Digits = 10\n",
      "Number 83: Sum of Digits = 11\n",
      "Number 84: Sum of Digits = 12\n",
      "Number 85: Sum of Digits = 13\n",
      "Number 86: Sum of Digits = 14\n",
      "Number 87: Sum of Digits = 15\n",
      "Number 88: Sum of Digits = 16\n",
      "Number 89: Sum of Digits = 17\n",
      "Number 90: Sum of Digits = 9\n",
      "Number 91: Sum of Digits = 10\n",
      "Number 92: Sum of Digits = 11\n",
      "Number 93: Sum of Digits = 12\n",
      "Number 94: Sum of Digits = 13\n",
      "Number 95: Sum of Digits = 14\n",
      "Number 96: Sum of Digits = 15\n",
      "Number 97: Sum of Digits = 16\n",
      "Number 98: Sum of Digits = 17\n",
      "Number 99: Sum of Digits = 18\n",
      "Number 100: Sum of Digits = 1\n",
      "Number 101: Sum of Digits = 2\n",
      "Number 102: Sum of Digits = 3\n",
      "Number 103: Sum of Digits = 4\n",
      "Number 104: Sum of Digits = 5\n",
      "Number 105: Sum of Digits = 6\n",
      "Number 106: Sum of Digits = 7\n",
      "Number 107: Sum of Digits = 8\n",
      "Number 108: Sum of Digits = 9\n",
      "Number 109: Sum of Digits = 10\n",
      "Number 110: Sum of Digits = 2\n",
      "Number 111: Sum of Digits = 3\n",
      "Number 112: Sum of Digits = 4\n",
      "Number 113: Sum of Digits = 5\n",
      "Number 114: Sum of Digits = 6\n",
      "Number 115: Sum of Digits = 7\n",
      "Number 116: Sum of Digits = 8\n",
      "Number 117: Sum of Digits = 9\n",
      "Number 118: Sum of Digits = 10\n",
      "Number 119: Sum of Digits = 11\n",
      "Number 120: Sum of Digits = 3\n",
      "Number 121: Sum of Digits = 4\n",
      "Number 122: Sum of Digits = 5\n",
      "Number 123: Sum of Digits = 6\n",
      "Number 124: Sum of Digits = 7\n",
      "Number 125: Sum of Digits = 8\n",
      "Number 126: Sum of Digits = 9\n",
      "Number 127: Sum of Digits = 10\n",
      "Number 128: Sum of Digits = 11\n",
      "Number 129: Sum of Digits = 12\n",
      "Number 130: Sum of Digits = 4\n",
      "Number 131: Sum of Digits = 5\n",
      "Number 132: Sum of Digits = 6\n",
      "Number 133: Sum of Digits = 7\n",
      "Number 134: Sum of Digits = 8\n",
      "Number 135: Sum of Digits = 9\n",
      "Number 136: Sum of Digits = 10\n",
      "Number 137: Sum of Digits = 11\n",
      "Number 138: Sum of Digits = 12\n",
      "Number 139: Sum of Digits = 13\n",
      "Number 140: Sum of Digits = 5\n",
      "Number 141: Sum of Digits = 6\n",
      "Number 142: Sum of Digits = 7\n",
      "Number 143: Sum of Digits = 8\n",
      "Number 144: Sum of Digits = 9\n",
      "Number 145: Sum of Digits = 10\n",
      "Number 146: Sum of Digits = 11\n",
      "Number 147: Sum of Digits = 12\n",
      "Number 148: Sum of Digits = 13\n",
      "Number 149: Sum of Digits = 14\n",
      "Number 150: Sum of Digits = 6\n",
      "Number 151: Sum of Digits = 7\n",
      "Number 152: Sum of Digits = 8\n",
      "Number 153: Sum of Digits = 9\n",
      "Number 154: Sum of Digits = 10\n",
      "Number 155: Sum of Digits = 11\n",
      "Number 156: Sum of Digits = 12\n",
      "Number 157: Sum of Digits = 13\n",
      "Number 158: Sum of Digits = 14\n",
      "Number 159: Sum of Digits = 15\n",
      "Number 160: Sum of Digits = 7\n",
      "Number 161: Sum of Digits = 8\n",
      "Number 162: Sum of Digits = 9\n",
      "Number 163: Sum of Digits = 10\n",
      "Number 164: Sum of Digits = 11\n",
      "Number 165: Sum of Digits = 12\n",
      "Number 166: Sum of Digits = 13\n",
      "Number 167: Sum of Digits = 14\n",
      "Number 168: Sum of Digits = 15\n",
      "Number 169: Sum of Digits = 16\n",
      "Number 170: Sum of Digits = 8\n",
      "Number 171: Sum of Digits = 9\n",
      "Number 172: Sum of Digits = 10\n",
      "Number 173: Sum of Digits = 11\n",
      "Number 174: Sum of Digits = 12\n",
      "Number 175: Sum of Digits = 13\n",
      "Number 176: Sum of Digits = 14\n",
      "Number 177: Sum of Digits = 15\n",
      "Number 178: Sum of Digits = 16\n",
      "Number 179: Sum of Digits = 17\n",
      "Number 180: Sum of Digits = 9\n",
      "Number 181: Sum of Digits = 10\n",
      "Number 182: Sum of Digits = 11\n",
      "Number 183: Sum of Digits = 12\n",
      "Number 184: Sum of Digits = 13\n",
      "Number 185: Sum of Digits = 14\n",
      "Number 186: Sum of Digits = 15\n",
      "Number 187: Sum of Digits = 16\n",
      "Number 188: Sum of Digits = 17\n",
      "Number 189: Sum of Digits = 18\n",
      "Number 190: Sum of Digits = 10\n",
      "Number 191: Sum of Digits = 11\n",
      "Number 192: Sum of Digits = 12\n",
      "Number 193: Sum of Digits = 13\n",
      "Number 194: Sum of Digits = 14\n",
      "Number 195: Sum of Digits = 15\n",
      "Number 196: Sum of Digits = 16\n",
      "Number 197: Sum of Digits = 17\n",
      "Number 198: Sum of Digits = 18\n",
      "Number 199: Sum of Digits = 19\n",
      "Number 200: Sum of Digits = 2\n",
      "Number 201: Sum of Digits = 3\n",
      "Number 202: Sum of Digits = 4\n",
      "Number 203: Sum of Digits = 5\n",
      "Number 204: Sum of Digits = 6\n",
      "Number 205: Sum of Digits = 7\n",
      "Number 206: Sum of Digits = 8\n",
      "Number 207: Sum of Digits = 9\n",
      "Number 208: Sum of Digits = 10\n",
      "Number 209: Sum of Digits = 11\n",
      "Number 210: Sum of Digits = 3\n",
      "Number 211: Sum of Digits = 4\n",
      "Number 212: Sum of Digits = 5\n",
      "Number 213: Sum of Digits = 6\n",
      "Number 214: Sum of Digits = 7\n",
      "Number 215: Sum of Digits = 8\n",
      "Number 216: Sum of Digits = 9\n",
      "Number 217: Sum of Digits = 10\n",
      "Number 218: Sum of Digits = 11\n",
      "Number 219: Sum of Digits = 12\n",
      "Number 220: Sum of Digits = 4\n",
      "Number 221: Sum of Digits = 5\n",
      "Number 222: Sum of Digits = 6\n",
      "Number 223: Sum of Digits = 7\n",
      "Number 224: Sum of Digits = 8\n",
      "Number 225: Sum of Digits = 9\n",
      "Number 226: Sum of Digits = 10\n",
      "Number 227: Sum of Digits = 11\n",
      "Number 228: Sum of Digits = 12\n",
      "Number 229: Sum of Digits = 13\n",
      "Number 230: Sum of Digits = 5\n",
      "Number 231: Sum of Digits = 6\n",
      "Number 232: Sum of Digits = 7\n",
      "Number 233: Sum of Digits = 8\n",
      "Number 234: Sum of Digits = 9\n",
      "Number 235: Sum of Digits = 10\n",
      "Number 236: Sum of Digits = 11\n",
      "Number 237: Sum of Digits = 12\n",
      "Number 238: Sum of Digits = 13\n",
      "Number 239: Sum of Digits = 14\n",
      "Number 240: Sum of Digits = 6\n",
      "Number 241: Sum of Digits = 7\n",
      "Number 242: Sum of Digits = 8\n",
      "Number 243: Sum of Digits = 9\n",
      "Number 244: Sum of Digits = 10\n",
      "Number 245: Sum of Digits = 11\n",
      "Number 246: Sum of Digits = 12\n",
      "Number 247: Sum of Digits = 13\n",
      "Number 248: Sum of Digits = 14\n",
      "Number 249: Sum of Digits = 15\n",
      "Number 250: Sum of Digits = 7\n",
      "Number 251: Sum of Digits = 8\n",
      "Number 252: Sum of Digits = 9\n",
      "Number 253: Sum of Digits = 10\n",
      "Number 254: Sum of Digits = 11\n",
      "Number 255: Sum of Digits = 12\n",
      "Number 256: Sum of Digits = 13\n",
      "Number 257: Sum of Digits = 14\n",
      "Number 258: Sum of Digits = 15\n",
      "Number 259: Sum of Digits = 16\n",
      "Number 260: Sum of Digits = 8\n",
      "Number 261: Sum of Digits = 9\n",
      "Number 262: Sum of Digits = 10\n",
      "Number 263: Sum of Digits = 11\n",
      "Number 264: Sum of Digits = 12\n",
      "Number 265: Sum of Digits = 13\n",
      "Number 266: Sum of Digits = 14\n",
      "Number 267: Sum of Digits = 15\n",
      "Number 268: Sum of Digits = 16\n",
      "Number 269: Sum of Digits = 17\n",
      "Number 270: Sum of Digits = 9\n",
      "Number 271: Sum of Digits = 10\n",
      "Number 272: Sum of Digits = 11\n",
      "Number 273: Sum of Digits = 12\n",
      "Number 274: Sum of Digits = 13\n",
      "Number 275: Sum of Digits = 14\n",
      "Number 276: Sum of Digits = 15\n",
      "Number 277: Sum of Digits = 16\n",
      "Number 278: Sum of Digits = 17\n",
      "Number 279: Sum of Digits = 18\n",
      "Number 280: Sum of Digits = 10\n",
      "Number 281: Sum of Digits = 11\n",
      "Number 282: Sum of Digits = 12\n",
      "Number 283: Sum of Digits = 13\n",
      "Number 284: Sum of Digits = 14\n",
      "Number 285: Sum of Digits = 15\n",
      "Number 286: Sum of Digits = 16\n",
      "Number 287: Sum of Digits = 17\n",
      "Number 288: Sum of Digits = 18\n",
      "Number 289: Sum of Digits = 19\n",
      "Number 290: Sum of Digits = 11\n",
      "Number 291: Sum of Digits = 12\n",
      "Number 292: Sum of Digits = 13\n",
      "Number 293: Sum of Digits = 14\n",
      "Number 294: Sum of Digits = 15\n",
      "Number 295: Sum of Digits = 16\n",
      "Number 296: Sum of Digits = 17\n",
      "Number 297: Sum of Digits = 18\n",
      "Number 298: Sum of Digits = 19\n",
      "Number 299: Sum of Digits = 20\n",
      "Number 300: Sum of Digits = 3\n",
      "Number 301: Sum of Digits = 4\n",
      "Number 302: Sum of Digits = 5\n",
      "Number 303: Sum of Digits = 6\n",
      "Number 304: Sum of Digits = 7\n",
      "Number 305: Sum of Digits = 8\n",
      "Number 306: Sum of Digits = 9\n",
      "Number 307: Sum of Digits = 10\n",
      "Number 308: Sum of Digits = 11\n",
      "Number 309: Sum of Digits = 12\n",
      "Number 310: Sum of Digits = 4\n",
      "Number 311: Sum of Digits = 5\n",
      "Number 312: Sum of Digits = 6\n",
      "Number 313: Sum of Digits = 7\n",
      "Number 314: Sum of Digits = 8\n",
      "Number 315: Sum of Digits = 9\n",
      "Number 316: Sum of Digits = 10\n",
      "Number 317: Sum of Digits = 11\n",
      "Number 318: Sum of Digits = 12\n",
      "Number 319: Sum of Digits = 13\n",
      "Number 320: Sum of Digits = 5\n",
      "Number 321: Sum of Digits = 6\n",
      "Number 322: Sum of Digits = 7\n",
      "Number 323: Sum of Digits = 8\n",
      "Number 324: Sum of Digits = 9\n",
      "Number 325: Sum of Digits = 10\n",
      "Number 326: Sum of Digits = 11\n",
      "Number 327: Sum of Digits = 12\n",
      "Number 328: Sum of Digits = 13\n",
      "Number 329: Sum of Digits = 14\n",
      "Number 330: Sum of Digits = 6\n",
      "Number 331: Sum of Digits = 7\n",
      "Number 332: Sum of Digits = 8\n",
      "Number 333: Sum of Digits = 9\n",
      "Number 334: Sum of Digits = 10\n",
      "Number 335: Sum of Digits = 11\n",
      "Number 336: Sum of Digits = 12\n",
      "Number 337: Sum of Digits = 13\n",
      "Number 338: Sum of Digits = 14\n",
      "Number 339: Sum of Digits = 15\n",
      "Number 340: Sum of Digits = 7\n",
      "Number 341: Sum of Digits = 8\n",
      "Number 342: Sum of Digits = 9\n",
      "Number 343: Sum of Digits = 10\n",
      "Number 344: Sum of Digits = 11\n",
      "Number 345: Sum of Digits = 12\n",
      "Number 346: Sum of Digits = 13\n",
      "Number 347: Sum of Digits = 14\n",
      "Number 348: Sum of Digits = 15\n",
      "Number 349: Sum of Digits = 16\n",
      "Number 350: Sum of Digits = 8\n",
      "Number 351: Sum of Digits = 9\n",
      "Number 352: Sum of Digits = 10\n",
      "Number 353: Sum of Digits = 11\n",
      "Number 354: Sum of Digits = 12\n",
      "Number 355: Sum of Digits = 13\n",
      "Number 356: Sum of Digits = 14\n",
      "Number 357: Sum of Digits = 15\n",
      "Number 358: Sum of Digits = 16\n",
      "Number 359: Sum of Digits = 17\n",
      "Number 360: Sum of Digits = 9\n",
      "Number 361: Sum of Digits = 10\n",
      "Number 362: Sum of Digits = 11\n",
      "Number 363: Sum of Digits = 12\n",
      "Number 364: Sum of Digits = 13\n",
      "Number 365: Sum of Digits = 14\n",
      "Number 366: Sum of Digits = 15\n",
      "Number 367: Sum of Digits = 16\n",
      "Number 368: Sum of Digits = 17\n",
      "Number 369: Sum of Digits = 18\n",
      "Number 370: Sum of Digits = 10\n",
      "Number 371: Sum of Digits = 11\n",
      "Number 372: Sum of Digits = 12\n",
      "Number 373: Sum of Digits = 13\n",
      "Number 374: Sum of Digits = 14\n",
      "Number 375: Sum of Digits = 15\n",
      "Number 376: Sum of Digits = 16\n",
      "Number 377: Sum of Digits = 17\n",
      "Number 378: Sum of Digits = 18\n",
      "Number 379: Sum of Digits = 19\n",
      "Number 380: Sum of Digits = 11\n",
      "Number 381: Sum of Digits = 12\n",
      "Number 382: Sum of Digits = 13\n",
      "Number 383: Sum of Digits = 14\n",
      "Number 384: Sum of Digits = 15\n",
      "Number 385: Sum of Digits = 16\n",
      "Number 386: Sum of Digits = 17\n",
      "Number 387: Sum of Digits = 18\n",
      "Number 388: Sum of Digits = 19\n",
      "Number 389: Sum of Digits = 20\n",
      "Number 390: Sum of Digits = 12\n",
      "Number 391: Sum of Digits = 13\n",
      "Number 392: Sum of Digits = 14\n",
      "Number 393: Sum of Digits = 15\n",
      "Number 394: Sum of Digits = 16\n",
      "Number 395: Sum of Digits = 17\n",
      "Number 396: Sum of Digits = 18\n",
      "Number 397: Sum of Digits = 19\n",
      "Number 398: Sum of Digits = 20\n",
      "Number 399: Sum of Digits = 21\n",
      "Number 400: Sum of Digits = 4\n",
      "Number 401: Sum of Digits = 5\n",
      "Number 402: Sum of Digits = 6\n",
      "Number 403: Sum of Digits = 7\n",
      "Number 404: Sum of Digits = 8\n",
      "Number 405: Sum of Digits = 9\n",
      "Number 406: Sum of Digits = 10\n",
      "Number 407: Sum of Digits = 11\n",
      "Number 408: Sum of Digits = 12\n",
      "Number 409: Sum of Digits = 13\n",
      "Number 410: Sum of Digits = 5\n",
      "Number 411: Sum of Digits = 6\n",
      "Number 412: Sum of Digits = 7\n",
      "Number 413: Sum of Digits = 8\n",
      "Number 414: Sum of Digits = 9\n",
      "Number 415: Sum of Digits = 10\n",
      "Number 416: Sum of Digits = 11\n",
      "Number 417: Sum of Digits = 12\n",
      "Number 418: Sum of Digits = 13\n",
      "Number 419: Sum of Digits = 14\n",
      "Number 420: Sum of Digits = 6\n",
      "Number 421: Sum of Digits = 7\n",
      "Number 422: Sum of Digits = 8\n",
      "Number 423: Sum of Digits = 9\n",
      "Number 424: Sum of Digits = 10\n",
      "Number 425: Sum of Digits = 11\n",
      "Number 426: Sum of Digits = 12\n",
      "Number 427: Sum of Digits = 13\n",
      "Number 428: Sum of Digits = 14\n",
      "Number 429: Sum of Digits = 15\n",
      "Number 430: Sum of Digits = 7\n",
      "Number 431: Sum of Digits = 8\n",
      "Number 432: Sum of Digits = 9\n",
      "Number 433: Sum of Digits = 10\n",
      "Number 434: Sum of Digits = 11\n",
      "Number 435: Sum of Digits = 12\n",
      "Number 436: Sum of Digits = 13\n",
      "Number 437: Sum of Digits = 14\n",
      "Number 438: Sum of Digits = 15\n",
      "Number 439: Sum of Digits = 16\n",
      "Number 440: Sum of Digits = 8\n",
      "Number 441: Sum of Digits = 9\n",
      "Number 442: Sum of Digits = 10\n",
      "Number 443: Sum of Digits = 11\n",
      "Number 444: Sum of Digits = 12\n",
      "Number 445: Sum of Digits = 13\n",
      "Number 446: Sum of Digits = 14\n",
      "Number 447: Sum of Digits = 15\n",
      "Number 448: Sum of Digits = 16\n",
      "Number 449: Sum of Digits = 17\n",
      "Number 450: Sum of Digits = 9\n",
      "Number 451: Sum of Digits = 10\n",
      "Number 452: Sum of Digits = 11\n",
      "Number 453: Sum of Digits = 12\n",
      "Number 454: Sum of Digits = 13\n",
      "Number 455: Sum of Digits = 14\n",
      "Number 456: Sum of Digits = 15\n",
      "Number 457: Sum of Digits = 16\n",
      "Number 458: Sum of Digits = 17\n",
      "Number 459: Sum of Digits = 18\n",
      "Number 460: Sum of Digits = 10\n",
      "Number 461: Sum of Digits = 11\n",
      "Number 462: Sum of Digits = 12\n",
      "Number 463: Sum of Digits = 13\n",
      "Number 464: Sum of Digits = 14\n",
      "Number 465: Sum of Digits = 15\n",
      "Number 466: Sum of Digits = 16\n",
      "Number 467: Sum of Digits = 17\n",
      "Number 468: Sum of Digits = 18\n",
      "Number 469: Sum of Digits = 19\n",
      "Number 470: Sum of Digits = 11\n",
      "Number 471: Sum of Digits = 12\n",
      "Number 472: Sum of Digits = 13\n",
      "Number 473: Sum of Digits = 14\n",
      "Number 474: Sum of Digits = 15\n",
      "Number 475: Sum of Digits = 16\n",
      "Number 476: Sum of Digits = 17\n",
      "Number 477: Sum of Digits = 18\n",
      "Number 478: Sum of Digits = 19\n",
      "Number 479: Sum of Digits = 20\n",
      "Number 480: Sum of Digits = 12\n",
      "Number 481: Sum of Digits = 13\n",
      "Number 482: Sum of Digits = 14\n",
      "Number 483: Sum of Digits = 15\n",
      "Number 484: Sum of Digits = 16\n",
      "Number 485: Sum of Digits = 17\n",
      "Number 486: Sum of Digits = 18\n",
      "Number 487: Sum of Digits = 19\n",
      "Number 488: Sum of Digits = 20\n",
      "Number 489: Sum of Digits = 21\n",
      "Number 490: Sum of Digits = 13\n",
      "Number 491: Sum of Digits = 14\n",
      "Number 492: Sum of Digits = 15\n",
      "Number 493: Sum of Digits = 16\n",
      "Number 494: Sum of Digits = 17\n",
      "Number 495: Sum of Digits = 18\n",
      "Number 496: Sum of Digits = 19\n",
      "Number 497: Sum of Digits = 20\n",
      "Number 498: Sum of Digits = 21\n",
      "Number 499: Sum of Digits = 22\n",
      "Number 500: Sum of Digits = 5\n",
      "Number 501: Sum of Digits = 6\n",
      "Number 502: Sum of Digits = 7\n",
      "Number 503: Sum of Digits = 8\n",
      "Number 504: Sum of Digits = 9\n",
      "Number 505: Sum of Digits = 10\n",
      "Number 506: Sum of Digits = 11\n",
      "Number 507: Sum of Digits = 12\n",
      "Number 508: Sum of Digits = 13\n",
      "Number 509: Sum of Digits = 14\n",
      "Number 510: Sum of Digits = 6\n",
      "Number 511: Sum of Digits = 7\n",
      "Number 512: Sum of Digits = 8\n",
      "Number 513: Sum of Digits = 9\n",
      "Number 514: Sum of Digits = 10\n",
      "Number 515: Sum of Digits = 11\n",
      "Number 516: Sum of Digits = 12\n",
      "Number 517: Sum of Digits = 13\n",
      "Number 518: Sum of Digits = 14\n",
      "Number 519: Sum of Digits = 15\n",
      "Number 520: Sum of Digits = 7\n",
      "Number 521: Sum of Digits = 8\n",
      "Number 522: Sum of Digits = 9\n",
      "Number 523: Sum of Digits = 10\n",
      "Number 524: Sum of Digits = 11\n",
      "Number 525: Sum of Digits = 12\n",
      "Number 526: Sum of Digits = 13\n",
      "Number 527: Sum of Digits = 14\n",
      "Number 528: Sum of Digits = 15\n",
      "Number 529: Sum of Digits = 16\n",
      "Number 530: Sum of Digits = 8\n",
      "Number 531: Sum of Digits = 9\n",
      "Number 532: Sum of Digits = 10\n",
      "Number 533: Sum of Digits = 11\n",
      "Number 534: Sum of Digits = 12\n",
      "Number 535: Sum of Digits = 13\n",
      "Number 536: Sum of Digits = 14\n",
      "Number 537: Sum of Digits = 15\n",
      "Number 538: Sum of Digits = 16\n",
      "Number 539: Sum of Digits = 17\n",
      "Number 540: Sum of Digits = 9\n",
      "Number 541: Sum of Digits = 10\n",
      "Number 542: Sum of Digits = 11\n",
      "Number 543: Sum of Digits = 12\n",
      "Number 544: Sum of Digits = 13\n",
      "Number 545: Sum of Digits = 14\n",
      "Number 546: Sum of Digits = 15\n",
      "Number 547: Sum of Digits = 16\n",
      "Number 548: Sum of Digits = 17\n",
      "Number 549: Sum of Digits = 18\n",
      "Number 550: Sum of Digits = 10\n",
      "Number 551: Sum of Digits = 11\n",
      "Number 552: Sum of Digits = 12\n",
      "Number 553: Sum of Digits = 13\n",
      "Number 554: Sum of Digits = 14\n",
      "Number 555: Sum of Digits = 15\n",
      "Number 556: Sum of Digits = 16\n",
      "Number 557: Sum of Digits = 17\n",
      "Number 558: Sum of Digits = 18\n",
      "Number 559: Sum of Digits = 19\n",
      "Number 560: Sum of Digits = 11\n",
      "Number 561: Sum of Digits = 12\n",
      "Number 562: Sum of Digits = 13\n",
      "Number 563: Sum of Digits = 14\n",
      "Number 564: Sum of Digits = 15\n",
      "Number 565: Sum of Digits = 16\n",
      "Number 566: Sum of Digits = 17\n",
      "Number 567: Sum of Digits = 18\n",
      "Number 568: Sum of Digits = 19\n",
      "Number 569: Sum of Digits = 20\n",
      "Number 570: Sum of Digits = 12\n",
      "Number 571: Sum of Digits = 13\n",
      "Number 572: Sum of Digits = 14\n",
      "Number 573: Sum of Digits = 15\n",
      "Number 574: Sum of Digits = 16\n",
      "Number 575: Sum of Digits = 17\n",
      "Number 576: Sum of Digits = 18\n",
      "Number 577: Sum of Digits = 19\n",
      "Number 578: Sum of Digits = 20\n",
      "Number 579: Sum of Digits = 21\n",
      "Number 580: Sum of Digits = 13\n",
      "Number 581: Sum of Digits = 14\n",
      "Number 582: Sum of Digits = 15\n",
      "Number 583: Sum of Digits = 16\n",
      "Number 584: Sum of Digits = 17\n",
      "Number 585: Sum of Digits = 18\n",
      "Number 586: Sum of Digits = 19\n",
      "Number 587: Sum of Digits = 20\n",
      "Number 588: Sum of Digits = 21\n",
      "Number 589: Sum of Digits = 22\n",
      "Number 590: Sum of Digits = 14\n",
      "Number 591: Sum of Digits = 15\n",
      "Number 592: Sum of Digits = 16\n",
      "Number 593: Sum of Digits = 17\n",
      "Number 594: Sum of Digits = 18\n",
      "Number 595: Sum of Digits = 19\n",
      "Number 596: Sum of Digits = 20\n",
      "Number 597: Sum of Digits = 21\n",
      "Number 598: Sum of Digits = 22\n",
      "Number 599: Sum of Digits = 23\n",
      "Number 600: Sum of Digits = 6\n",
      "Number 601: Sum of Digits = 7\n",
      "Number 602: Sum of Digits = 8\n",
      "Number 603: Sum of Digits = 9\n",
      "Number 604: Sum of Digits = 10\n",
      "Number 605: Sum of Digits = 11\n",
      "Number 606: Sum of Digits = 12\n",
      "Number 607: Sum of Digits = 13\n",
      "Number 608: Sum of Digits = 14\n",
      "Number 609: Sum of Digits = 15\n",
      "Number 610: Sum of Digits = 7\n",
      "Number 611: Sum of Digits = 8\n",
      "Number 612: Sum of Digits = 9\n",
      "Number 613: Sum of Digits = 10\n",
      "Number 614: Sum of Digits = 11\n",
      "Number 615: Sum of Digits = 12\n",
      "Number 616: Sum of Digits = 13\n",
      "Number 617: Sum of Digits = 14\n",
      "Number 618: Sum of Digits = 15\n",
      "Number 619: Sum of Digits = 16\n",
      "Number 620: Sum of Digits = 8\n",
      "Number 621: Sum of Digits = 9\n",
      "Number 622: Sum of Digits = 10\n",
      "Number 623: Sum of Digits = 11\n",
      "Number 624: Sum of Digits = 12\n",
      "Number 625: Sum of Digits = 13\n",
      "Number 626: Sum of Digits = 14\n",
      "Number 627: Sum of Digits = 15\n",
      "Number 628: Sum of Digits = 16\n",
      "Number 629: Sum of Digits = 17\n",
      "Number 630: Sum of Digits = 9\n",
      "Number 631: Sum of Digits = 10\n",
      "Number 632: Sum of Digits = 11\n",
      "Number 633: Sum of Digits = 12\n",
      "Number 634: Sum of Digits = 13\n",
      "Number 635: Sum of Digits = 14\n",
      "Number 636: Sum of Digits = 15\n",
      "Number 637: Sum of Digits = 16\n",
      "Number 638: Sum of Digits = 17\n",
      "Number 639: Sum of Digits = 18\n",
      "Number 640: Sum of Digits = 10\n",
      "Number 641: Sum of Digits = 11\n",
      "Number 642: Sum of Digits = 12\n",
      "Number 643: Sum of Digits = 13\n",
      "Number 644: Sum of Digits = 14\n",
      "Number 645: Sum of Digits = 15\n",
      "Number 646: Sum of Digits = 16\n",
      "Number 647: Sum of Digits = 17\n",
      "Number 648: Sum of Digits = 18\n",
      "Number 649: Sum of Digits = 19\n",
      "Number 650: Sum of Digits = 11\n",
      "Number 651: Sum of Digits = 12\n",
      "Number 652: Sum of Digits = 13\n",
      "Number 653: Sum of Digits = 14\n",
      "Number 654: Sum of Digits = 15\n",
      "Number 655: Sum of Digits = 16\n",
      "Number 656: Sum of Digits = 17\n",
      "Number 657: Sum of Digits = 18\n",
      "Number 658: Sum of Digits = 19\n",
      "Number 659: Sum of Digits = 20\n",
      "Number 660: Sum of Digits = 12\n",
      "Number 661: Sum of Digits = 13\n",
      "Number 662: Sum of Digits = 14\n",
      "Number 663: Sum of Digits = 15\n",
      "Number 664: Sum of Digits = 16\n",
      "Number 665: Sum of Digits = 17\n",
      "Number 666: Sum of Digits = 18\n",
      "Number 667: Sum of Digits = 19\n",
      "Number 668: Sum of Digits = 20\n",
      "Number 669: Sum of Digits = 21\n",
      "Number 670: Sum of Digits = 13\n",
      "Number 671: Sum of Digits = 14\n",
      "Number 672: Sum of Digits = 15\n",
      "Number 673: Sum of Digits = 16\n",
      "Number 674: Sum of Digits = 17\n",
      "Number 675: Sum of Digits = 18\n",
      "Number 676: Sum of Digits = 19\n",
      "Number 677: Sum of Digits = 20\n",
      "Number 678: Sum of Digits = 21\n",
      "Number 679: Sum of Digits = 22\n",
      "Number 680: Sum of Digits = 14\n",
      "Number 681: Sum of Digits = 15\n",
      "Number 682: Sum of Digits = 16\n",
      "Number 683: Sum of Digits = 17\n",
      "Number 684: Sum of Digits = 18\n",
      "Number 685: Sum of Digits = 19\n",
      "Number 686: Sum of Digits = 20\n",
      "Number 687: Sum of Digits = 21\n",
      "Number 688: Sum of Digits = 22\n",
      "Number 689: Sum of Digits = 23\n",
      "Number 690: Sum of Digits = 15\n",
      "Number 691: Sum of Digits = 16\n",
      "Number 692: Sum of Digits = 17\n",
      "Number 693: Sum of Digits = 18\n",
      "Number 694: Sum of Digits = 19\n",
      "Number 695: Sum of Digits = 20\n",
      "Number 696: Sum of Digits = 21\n",
      "Number 697: Sum of Digits = 22\n",
      "Number 698: Sum of Digits = 23\n",
      "Number 699: Sum of Digits = 24\n",
      "Number 700: Sum of Digits = 7\n",
      "Number 701: Sum of Digits = 8\n",
      "Number 702: Sum of Digits = 9\n",
      "Number 703: Sum of Digits = 10\n",
      "Number 704: Sum of Digits = 11\n",
      "Number 705: Sum of Digits = 12\n",
      "Number 706: Sum of Digits = 13\n",
      "Number 707: Sum of Digits = 14\n",
      "Number 708: Sum of Digits = 15\n",
      "Number 709: Sum of Digits = 16\n",
      "Number 710: Sum of Digits = 8\n",
      "Number 711: Sum of Digits = 9\n",
      "Number 712: Sum of Digits = 10\n",
      "Number 713: Sum of Digits = 11\n",
      "Number 714: Sum of Digits = 12\n",
      "Number 715: Sum of Digits = 13\n",
      "Number 716: Sum of Digits = 14\n",
      "Number 717: Sum of Digits = 15\n",
      "Number 718: Sum of Digits = 16\n",
      "Number 719: Sum of Digits = 17\n",
      "Number 720: Sum of Digits = 9\n",
      "Number 721: Sum of Digits = 10\n",
      "Number 722: Sum of Digits = 11\n",
      "Number 723: Sum of Digits = 12\n",
      "Number 724: Sum of Digits = 13\n",
      "Number 725: Sum of Digits = 14\n",
      "Number 726: Sum of Digits = 15\n",
      "Number 727: Sum of Digits = 16\n",
      "Number 728: Sum of Digits = 17\n",
      "Number 729: Sum of Digits = 18\n",
      "Number 730: Sum of Digits = 10\n",
      "Number 731: Sum of Digits = 11\n",
      "Number 732: Sum of Digits = 12\n",
      "Number 733: Sum of Digits = 13\n",
      "Number 734: Sum of Digits = 14\n",
      "Number 735: Sum of Digits = 15\n",
      "Number 736: Sum of Digits = 16\n",
      "Number 737: Sum of Digits = 17\n",
      "Number 738: Sum of Digits = 18\n",
      "Number 739: Sum of Digits = 19\n",
      "Number 740: Sum of Digits = 11\n",
      "Number 741: Sum of Digits = 12\n",
      "Number 742: Sum of Digits = 13\n",
      "Number 743: Sum of Digits = 14\n",
      "Number 744: Sum of Digits = 15\n",
      "Number 745: Sum of Digits = 16\n",
      "Number 746: Sum of Digits = 17\n",
      "Number 747: Sum of Digits = 18\n",
      "Number 748: Sum of Digits = 19\n",
      "Number 749: Sum of Digits = 20\n",
      "Number 750: Sum of Digits = 12\n",
      "Number 751: Sum of Digits = 13\n",
      "Number 752: Sum of Digits = 14\n",
      "Number 753: Sum of Digits = 15\n",
      "Number 754: Sum of Digits = 16\n",
      "Number 755: Sum of Digits = 17\n",
      "Number 756: Sum of Digits = 18\n",
      "Number 757: Sum of Digits = 19\n",
      "Number 758: Sum of Digits = 20\n",
      "Number 759: Sum of Digits = 21\n",
      "Number 760: Sum of Digits = 13\n",
      "Number 761: Sum of Digits = 14\n",
      "Number 762: Sum of Digits = 15\n",
      "Number 763: Sum of Digits = 16\n",
      "Number 764: Sum of Digits = 17\n",
      "Number 765: Sum of Digits = 18\n",
      "Number 766: Sum of Digits = 19\n",
      "Number 767: Sum of Digits = 20\n",
      "Number 768: Sum of Digits = 21\n",
      "Number 769: Sum of Digits = 22\n",
      "Number 770: Sum of Digits = 14\n",
      "Number 771: Sum of Digits = 15\n",
      "Number 772: Sum of Digits = 16\n",
      "Number 773: Sum of Digits = 17\n",
      "Number 774: Sum of Digits = 18\n",
      "Number 775: Sum of Digits = 19\n",
      "Number 776: Sum of Digits = 20\n",
      "Number 777: Sum of Digits = 21\n",
      "Number 778: Sum of Digits = 22\n",
      "Number 779: Sum of Digits = 23\n",
      "Number 780: Sum of Digits = 15\n",
      "Number 781: Sum of Digits = 16\n",
      "Number 782: Sum of Digits = 17\n",
      "Number 783: Sum of Digits = 18\n",
      "Number 784: Sum of Digits = 19\n",
      "Number 785: Sum of Digits = 20\n",
      "Number 786: Sum of Digits = 21\n",
      "Number 787: Sum of Digits = 22\n",
      "Number 788: Sum of Digits = 23\n",
      "Number 789: Sum of Digits = 24\n",
      "Number 790: Sum of Digits = 16\n",
      "Number 791: Sum of Digits = 17\n",
      "Number 792: Sum of Digits = 18\n",
      "Number 793: Sum of Digits = 19\n",
      "Number 794: Sum of Digits = 20\n",
      "Number 795: Sum of Digits = 21\n",
      "Number 796: Sum of Digits = 22\n",
      "Number 797: Sum of Digits = 23\n",
      "Number 798: Sum of Digits = 24\n",
      "Number 799: Sum of Digits = 25\n",
      "Number 800: Sum of Digits = 8\n",
      "Number 801: Sum of Digits = 9\n",
      "Number 802: Sum of Digits = 10\n",
      "Number 803: Sum of Digits = 11\n",
      "Number 804: Sum of Digits = 12\n",
      "Number 805: Sum of Digits = 13\n",
      "Number 806: Sum of Digits = 14\n",
      "Number 807: Sum of Digits = 15\n",
      "Number 808: Sum of Digits = 16\n",
      "Number 809: Sum of Digits = 17\n",
      "Number 810: Sum of Digits = 9\n",
      "Number 811: Sum of Digits = 10\n",
      "Number 812: Sum of Digits = 11\n",
      "Number 813: Sum of Digits = 12\n",
      "Number 814: Sum of Digits = 13\n",
      "Number 815: Sum of Digits = 14\n",
      "Number 816: Sum of Digits = 15\n",
      "Number 817: Sum of Digits = 16\n",
      "Number 818: Sum of Digits = 17\n",
      "Number 819: Sum of Digits = 18\n",
      "Number 820: Sum of Digits = 10\n",
      "Number 821: Sum of Digits = 11\n",
      "Number 822: Sum of Digits = 12\n",
      "Number 823: Sum of Digits = 13\n",
      "Number 824: Sum of Digits = 14\n",
      "Number 825: Sum of Digits = 15\n",
      "Number 826: Sum of Digits = 16\n",
      "Number 827: Sum of Digits = 17\n",
      "Number 828: Sum of Digits = 18\n",
      "Number 829: Sum of Digits = 19\n",
      "Number 830: Sum of Digits = 11\n",
      "Number 831: Sum of Digits = 12\n",
      "Number 832: Sum of Digits = 13\n",
      "Number 833: Sum of Digits = 14\n",
      "Number 834: Sum of Digits = 15\n",
      "Number 835: Sum of Digits = 16\n",
      "Number 836: Sum of Digits = 17\n",
      "Number 837: Sum of Digits = 18\n",
      "Number 838: Sum of Digits = 19\n",
      "Number 839: Sum of Digits = 20\n",
      "Number 840: Sum of Digits = 12\n",
      "Number 841: Sum of Digits = 13\n",
      "Number 842: Sum of Digits = 14\n",
      "Number 843: Sum of Digits = 15\n",
      "Number 844: Sum of Digits = 16\n",
      "Number 845: Sum of Digits = 17\n",
      "Number 846: Sum of Digits = 18\n",
      "Number 847: Sum of Digits = 19\n",
      "Number 848: Sum of Digits = 20\n",
      "Number 849: Sum of Digits = 21\n",
      "Number 850: Sum of Digits = 13\n",
      "Number 851: Sum of Digits = 14\n",
      "Number 852: Sum of Digits = 15\n",
      "Number 853: Sum of Digits = 16\n",
      "Number 854: Sum of Digits = 17\n",
      "Number 855: Sum of Digits = 18\n",
      "Number 856: Sum of Digits = 19\n",
      "Number 857: Sum of Digits = 20\n",
      "Number 858: Sum of Digits = 21\n",
      "Number 859: Sum of Digits = 22\n",
      "Number 860: Sum of Digits = 14\n",
      "Number 861: Sum of Digits = 15\n",
      "Number 862: Sum of Digits = 16\n",
      "Number 863: Sum of Digits = 17\n",
      "Number 864: Sum of Digits = 18\n",
      "Number 865: Sum of Digits = 19\n",
      "Number 866: Sum of Digits = 20\n",
      "Number 867: Sum of Digits = 21\n",
      "Number 868: Sum of Digits = 22\n",
      "Number 869: Sum of Digits = 23\n",
      "Number 870: Sum of Digits = 15\n",
      "Number 871: Sum of Digits = 16\n",
      "Number 872: Sum of Digits = 17\n",
      "Number 873: Sum of Digits = 18\n",
      "Number 874: Sum of Digits = 19\n",
      "Number 875: Sum of Digits = 20\n",
      "Number 876: Sum of Digits = 21\n",
      "Number 877: Sum of Digits = 22\n",
      "Number 878: Sum of Digits = 23\n",
      "Number 879: Sum of Digits = 24\n",
      "Number 880: Sum of Digits = 16\n",
      "Number 881: Sum of Digits = 17\n",
      "Number 882: Sum of Digits = 18\n",
      "Number 883: Sum of Digits = 19\n",
      "Number 884: Sum of Digits = 20\n",
      "Number 885: Sum of Digits = 21\n",
      "Number 886: Sum of Digits = 22\n",
      "Number 887: Sum of Digits = 23\n",
      "Number 888: Sum of Digits = 24\n",
      "Number 889: Sum of Digits = 25\n",
      "Number 890: Sum of Digits = 17\n",
      "Number 891: Sum of Digits = 18\n",
      "Number 892: Sum of Digits = 19\n",
      "Number 893: Sum of Digits = 20\n",
      "Number 894: Sum of Digits = 21\n",
      "Number 895: Sum of Digits = 22\n",
      "Number 896: Sum of Digits = 23\n",
      "Number 897: Sum of Digits = 24\n",
      "Number 898: Sum of Digits = 25\n",
      "Number 899: Sum of Digits = 26\n",
      "Number 900: Sum of Digits = 9\n",
      "Number 901: Sum of Digits = 10\n",
      "Number 902: Sum of Digits = 11\n",
      "Number 903: Sum of Digits = 12\n",
      "Number 904: Sum of Digits = 13\n",
      "Number 905: Sum of Digits = 14\n",
      "Number 906: Sum of Digits = 15\n",
      "Number 907: Sum of Digits = 16\n",
      "Number 908: Sum of Digits = 17\n",
      "Number 909: Sum of Digits = 18\n",
      "Number 910: Sum of Digits = 10\n",
      "Number 911: Sum of Digits = 11\n",
      "Number 912: Sum of Digits = 12\n",
      "Number 913: Sum of Digits = 13\n",
      "Number 914: Sum of Digits = 14\n",
      "Number 915: Sum of Digits = 15\n",
      "Number 916: Sum of Digits = 16\n",
      "Number 917: Sum of Digits = 17\n",
      "Number 918: Sum of Digits = 18\n",
      "Number 919: Sum of Digits = 19\n",
      "Number 920: Sum of Digits = 11\n",
      "Number 921: Sum of Digits = 12\n",
      "Number 922: Sum of Digits = 13\n",
      "Number 923: Sum of Digits = 14\n",
      "Number 924: Sum of Digits = 15\n",
      "Number 925: Sum of Digits = 16\n",
      "Number 926: Sum of Digits = 17\n",
      "Number 927: Sum of Digits = 18\n",
      "Number 928: Sum of Digits = 19\n",
      "Number 929: Sum of Digits = 20\n",
      "Number 930: Sum of Digits = 12\n",
      "Number 931: Sum of Digits = 13\n",
      "Number 932: Sum of Digits = 14\n",
      "Number 933: Sum of Digits = 15\n",
      "Number 934: Sum of Digits = 16\n",
      "Number 935: Sum of Digits = 17\n",
      "Number 936: Sum of Digits = 18\n",
      "Number 937: Sum of Digits = 19\n",
      "Number 938: Sum of Digits = 20\n",
      "Number 939: Sum of Digits = 21\n",
      "Number 940: Sum of Digits = 13\n",
      "Number 941: Sum of Digits = 14\n",
      "Number 942: Sum of Digits = 15\n",
      "Number 943: Sum of Digits = 16\n",
      "Number 944: Sum of Digits = 17\n",
      "Number 945: Sum of Digits = 18\n",
      "Number 946: Sum of Digits = 19\n",
      "Number 947: Sum of Digits = 20\n",
      "Number 948: Sum of Digits = 21\n",
      "Number 949: Sum of Digits = 22\n",
      "Number 950: Sum of Digits = 14\n",
      "Number 951: Sum of Digits = 15\n",
      "Number 952: Sum of Digits = 16\n",
      "Number 953: Sum of Digits = 17\n",
      "Number 954: Sum of Digits = 18\n",
      "Number 955: Sum of Digits = 19\n",
      "Number 956: Sum of Digits = 20\n",
      "Number 957: Sum of Digits = 21\n",
      "Number 958: Sum of Digits = 22\n",
      "Number 959: Sum of Digits = 23\n",
      "Number 960: Sum of Digits = 15\n",
      "Number 961: Sum of Digits = 16\n",
      "Number 962: Sum of Digits = 17\n",
      "Number 963: Sum of Digits = 18\n",
      "Number 964: Sum of Digits = 19\n",
      "Number 965: Sum of Digits = 20\n",
      "Number 966: Sum of Digits = 21\n",
      "Number 967: Sum of Digits = 22\n",
      "Number 968: Sum of Digits = 23\n",
      "Number 969: Sum of Digits = 24\n",
      "Number 970: Sum of Digits = 16\n",
      "Number 971: Sum of Digits = 17\n",
      "Number 972: Sum of Digits = 18\n",
      "Number 973: Sum of Digits = 19\n",
      "Number 974: Sum of Digits = 20\n",
      "Number 975: Sum of Digits = 21\n",
      "Number 976: Sum of Digits = 22\n",
      "Number 977: Sum of Digits = 23\n",
      "Number 978: Sum of Digits = 24\n",
      "Number 979: Sum of Digits = 25\n",
      "Number 980: Sum of Digits = 17\n",
      "Number 981: Sum of Digits = 18\n",
      "Number 982: Sum of Digits = 19\n",
      "Number 983: Sum of Digits = 20\n",
      "Number 984: Sum of Digits = 21\n",
      "Number 985: Sum of Digits = 22\n",
      "Number 986: Sum of Digits = 23\n",
      "Number 987: Sum of Digits = 24\n",
      "Number 988: Sum of Digits = 25\n",
      "Number 989: Sum of Digits = 26\n",
      "Number 990: Sum of Digits = 18\n",
      "Number 991: Sum of Digits = 19\n",
      "Number 992: Sum of Digits = 20\n",
      "Number 993: Sum of Digits = 21\n",
      "Number 994: Sum of Digits = 22\n",
      "Number 995: Sum of Digits = 23\n",
      "Number 996: Sum of Digits = 24\n",
      "Number 997: Sum of Digits = 25\n",
      "Number 998: Sum of Digits = 26\n",
      "Number 999: Sum of Digits = 27\n",
      "Number 1000: Sum of Digits = 1\n"
     ]
    }
   ],
   "source": [
    "# Use list comprehension to calculate the sum of digits for numbers from 1 to 1000\n",
    "digit_sums = [sum(int(digit) for digit in str(num)) for num in range(1, 1001)]\n",
    "\n",
    "# Print the results\n",
    "print(\"Sum of Digits for Numbers from 1 to 1000:\")\n",
    "for num, digit_sum in enumerate(digit_sums, start=1):\n",
    "    print(f\"Number {num}: Sum of Digits = {digit_sum}\")"
   ]
  },
  {
   "cell_type": "markdown",
   "id": "29fd4083",
   "metadata": {},
   "source": [
    "Question 40 :- Write a program that generates a list of prime palindromic numbers using list comprehension."
   ]
  },
  {
   "cell_type": "code",
   "execution_count": 59,
   "id": "8489ee4b",
   "metadata": {},
   "outputs": [
    {
     "name": "stdout",
     "output_type": "stream",
     "text": [
      "Prime Palindromic Numbers up to 1000: [2, 3, 5, 7, 11, 101, 131, 151, 181, 191, 313, 353, 373, 383, 727, 757, 787, 797, 919, 929]\n"
     ]
    }
   ],
   "source": [
    "# Function to check if a number is prime\n",
    "def is_prime(n):\n",
    "    if n <= 1:\n",
    "        return False\n",
    "    if n == 2:\n",
    "        return True\n",
    "    if n % 2 == 0:\n",
    "        return False\n",
    "    for i in range(3, int(n**0.5) + 1, 2):\n",
    "        if n % i == 0:\n",
    "            return False\n",
    "    return True\n",
    "\n",
    "# Use list comprehension to generate prime palindromic numbers\n",
    "prime_palindromic_numbers = [num for num in range(2, 1000) if is_prime(num) and str(num) == str(num)[::-1]]\n",
    "\n",
    "# Print the list of prime palindromic numbers\n",
    "print(\"Prime Palindromic Numbers up to 1000:\", prime_palindromic_numbers)"
   ]
  },
  {
   "cell_type": "code",
   "execution_count": null,
   "id": "965c43f6",
   "metadata": {},
   "outputs": [],
   "source": []
  }
 ],
 "metadata": {
  "kernelspec": {
   "display_name": "Python 3 (ipykernel)",
   "language": "python",
   "name": "python3"
  },
  "language_info": {
   "codemirror_mode": {
    "name": "ipython",
    "version": 3
   },
   "file_extension": ".py",
   "mimetype": "text/x-python",
   "name": "python",
   "nbconvert_exporter": "python",
   "pygments_lexer": "ipython3",
   "version": "3.11.3"
  }
 },
 "nbformat": 4,
 "nbformat_minor": 5
}
